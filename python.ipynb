{
 "cells": [
  {
   "cell_type": "code",
   "execution_count": null,
   "metadata": {},
   "outputs": [],
   "source": [
    "def add_student_marks():\n",
    "    name = input(\"Enter student's Name: \")\n",
    "    math_mark = float(input(\"Enter Maths Marks: \"))\n",
    "    physics_mark = float(input(\"Enter Physics Marks: \"))\n",
    "    chemistry_mark = float(input(\"Enter Chemistry Marks: \"))\n",
    "    english_mark = float(input(\"Enter English Marks: \"))\n",
    "    physical_ed_mark = float(input(\"Enter Physical Education marks: \"))\n",
    "    bin\n",
    "    student_data = f\"{name}'s Marks\\nMaths: {math_mark}\\nPhysics: {physics_mark}\\nChemistry: {chemistry_mark}\\nEnglish: {english_mark}\\nPhysical Education: {physical_ed_mark}\\n\"\n",
    "    av = (math_mark + physics_mark + chemistry_mark +  english_mark + physical_ed_mark) /5\n",
    "    average = f\"Average Marks: {av}\\n\"\n",
    "    \n",
    "    with open(\"student_marks.txt\", \"a\") as file:\n",
    "        file.write(student_data)\n",
    "        file.write(str(average))\n",
    "    \n",
    "    print(\"Student's marks saved successfully.\")\n",
    "\n",
    "while True:\n",
    "    add_student_marks()\n",
    "    cont = input(\"Do you want to add marks for another student? (yes/no): \")\n",
    "    if cont.lower() != \"yes\":\n",
    "        break\n"
   ]
  }
 ],
 "metadata": {
  "language_info": {
   "name": "python"
  }
 },
 "nbformat": 4,
 "nbformat_minor": 2
}
